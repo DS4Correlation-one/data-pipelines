{
 "cells": [
  {
   "cell_type": "code",
   "execution_count": null,
   "metadata": {},
   "outputs": [],
   "source": [
    "import pandas as pd\n",
    "import numpy as np\n",
    "\n",
    "\n",
    "def read_chunks(file_path, size):\n",
    "    \"\"\"\n",
    "    Read staging table in chunks because it has many rows. Returns a concatenated dataframe.\n",
    "    \"\"\"\n",
    "    data_chunks = []\n",
    "    chunk_counter = 1\n",
    "    print(f\"Reading {file_path} in chunks...\")\n",
    "    for chunk in pd.read_csv(file_path, chunksize=size, low_memory=False):\n",
    "        print(f\"Reading chunk # {str(chunk_counter)}\")\n",
    "        data_chunks.append(chunk)\n",
    "        chunk_counter += 1\n",
    "    dataset = pd.concat(data_chunks)\n",
    "    print('Read complete.')\n",
    "    return dataset"
   ]
  },
  {
   "cell_type": "code",
   "execution_count": 3,
   "metadata": {},
   "outputs": [],
   "source": [
    "# Research Payments File Path\n",
    "research_2020_path = \"https://download.cms.gov/openpayments/PGYR19_P012023/OP_DTL_RSRCH_PGYR2019_P01202023.csv\"\n",
    "research_2021_path =\"https://download.cms.gov/openpayments/PGYR21_P012023/OP_DTL_RSRCH_PGYR2021_P01202023.csv\"\n",
    "# General Payments File Path\n",
    "payments_2020_path = \"https://download.cms.gov/openpayments/PGYR20_P012023/OP_DTL_GNRL_PGYR2020_P01202023.csv\"\n",
    "payments_2021_path =\"https://download.cms.gov/openpayments/PGYR21_P012023/OP_DTL_GNRL_PGYR2021_P01202023.csv\"\n",
    "# Ownership Payments File Path\n",
    "ownership_2020_path = \"https://download.cms.gov/openpayments/PGYR20_P012023/OP_DTL_OWNRSHP_PGYR2020_P01202023.csv\"\n",
    "ownership_2021_path = \"https://download.cms.gov/openpayments/PGYR21_P012023/OP_DTL_OWNRSHP_PGYR2021_P01202023.csv\"\n",
    "# Physician Profile File Path\n",
    "profile_path = \"https://download.cms.gov/openpayments/PHPRFL_P012023/OP_CVRD_RCPNT_PRFL_SPLMTL_P01202023.csv\"\n",
    "# Provider Mapping Path\n",
    "provider_mapping_path = \"https://download.cms.gov/openpayments/SMRY_P01202023/PBLCTN_PRVDR_PRFL_MAPPING_P01202023_01042023.csv\""
   ]
  },
  {
   "cell_type": "code",
   "execution_count": null,
   "metadata": {
    "scrolled": true
   },
   "outputs": [],
   "source": [
    "# Read Research Data for 2020 and 2021\n",
    "research_2020_df = read_chunks(research_2020_path, 50000)\n",
    "research_2021_df = read_chunks(research_2021_path, 50000)\n",
    "# concat research df across both years\n",
    "concat_research_df = pd.concat([research_2020_df, research_2021_df])\n",
    "research_keep_col_list = ['Change_Type',\n",
    "'ClinicalTrials_Gov_Identifier',\n",
    "'Context_of_Research','Covered_Recipient_First_Name',\n",
    "'Covered_Recipient_Last_Name',\n",
    "'Covered_Recipient_License_State_code1',\n",
    "'Covered_Recipient_License_State_code2',\n",
    "'Covered_Recipient_License_State_code3',\n",
    "'Covered_Recipient_License_State_code4',\n",
    "'Covered_Recipient_License_State_code5',\n",
    "'Covered_Recipient_Middle_Name',\n",
    "'Covered_Recipient_Name_Suffix',\n",
    "'Covered_Recipient_NPI',\n",
    "'Covered_Recipient_Primary_Type_1',\n",
    "'Covered_Recipient_Primary_Type_2',\n",
    "'Covered_Recipient_Primary_Type_3',\n",
    "'Covered_Recipient_Primary_Type_4',\n",
    "'Covered_Recipient_Primary_Type_5',\n",
    "'Covered_Recipient_Primary_Type_6',\n",
    "'Covered_Recipient_Profile_ID',\n",
    "'Covered_Recipient_Type',\n",
    "'Date_of_Payment',\n",
    "'Dispute_Status_for_Publication',\n",
    "'Expenditure_Category1',\n",
    "'Expenditure_Category2',\n",
    "'Expenditure_Category3',\n",
    "'Expenditure_Category4',\n",
    "'Expenditure_Category5',\n",
    "'Expenditure_Category6',\n",
    "'Form_of_Payment_or_Transfer_of_Value',\n",
    "'Indicate_Drug_or_Biological_or_Device_or_Medical_Supply_2',\n",
    "'Indicate_Drug_or_Biological_or_Device_or_Medical_Supply_3',\n",
    "'Indicate_Drug_or_Biological_or_Device_or_Medical_Supply_4',\n",
    "'Indicate_Drug_or_Biological_or_Device_or_Medical_Supply_5',\n",
    "'Indicate_Drug_or_Biological_or_Device_or_Medical_Supply_1',\n",
    "'Name_of_Study',\n",
    "'Payment_Publication_Date',\n",
    "'Product_Category_or_Therapeutic_Area_1',\n",
    "'Product_Category_or_Therapeutic_Area_2',\n",
    "'Product_Category_or_Therapeutic_Area_3',\n",
    "'Product_Category_or_Therapeutic_Area_4',\n",
    "'Product_Category_or_Therapeutic_Area_5',\n",
    "'Program_Year',\n",
    "'Recipient_City',\n",
    "'Recipient_Country',\n",
    "'Recipient_Postal_Code',\n",
    "'Recipient_Primary_Business_Street_Address_Line2',\n",
    "'Recipient_Primary_Business_Street_Address_Line1',\n",
    "'Recipient_Province',\n",
    "'Recipient_State',\n",
    "'Recipient_Zip_Code',\n",
    "'Record_ID',\n",
    "'Teaching_Hospital_CCN',\n",
    "'Teaching_Hospital_ID',\n",
    "'Teaching_Hospital_Name',\n",
    "'Total_Amount_of_Payment_USDollars']\n",
    "cleaned_research_df = concat_research_df[research_keep_col_list]\n",
    "cleaned_research_df.head()\n",
    "del concat_research_df"
   ]
  },
  {
   "cell_type": "code",
   "execution_count": null,
   "metadata": {},
   "outputs": [
    {
     "name": "stdout",
     "output_type": "stream",
     "text": [
      "Reading https://download.cms.gov/openpayments/PGYR20_P012023/OP_DTL_GNRL_PGYR2020_P01202023.csv in chunks...\n"
     ]
    }
   ],
   "source": [
    "# Read Payments Data for 2020 and 2021\n",
    "payments_2020_df = read_chunks(payments_2020_path, 10000)\n",
    "payments_2021_df = read_chunks(payments_2021_path, 10000)\n",
    "drop_payment_cols = ['Covered_Recipient_Middle_Name','Covered_Recipient_Name_Suffix','Recipient_Province',\n",
    "                     'Recipient_Postal_Code','Contextual_Information','Covered_or_Noncovered_Indicator_1',\n",
    "                     'Indicate_Drug_or_Biological_or_Device_or_Medical_Supply_1','Product_Category_or_Therapeutic_Area_1',\n",
    "                     'Name_of_Drug_or_Biological_or_Device_or_Medical_Supply_1','Associated_Drug_or_Biological_NDC_1',\n",
    "                     'Associated_Device_or_Medical_Supply_PDI_1','Covered_or_Noncovered_Indicator_2',\n",
    "                     'Indicate_Drug_or_Biological_or_Device_or_Medical_Supply_2','Product_Category_or_Therapeutic_Area_2',\n",
    "                     'Name_of_Drug_or_Biological_or_Device_or_Medical_Supply_2','Associated_Drug_or_Biological_NDC_2',\n",
    "                     'Associated_Device_or_Medical_Supply_PDI_2','Covered_or_Noncovered_Indicator_3',\n",
    "                     'Indicate_Drug_or_Biological_or_Device_or_Medical_Supply_3','Product_Category_or_Therapeutic_Area_3',\n",
    "                     'Name_of_Drug_or_Biological_or_Device_or_Medical_Supply_3','Associated_Drug_or_Biological_NDC_3',\n",
    "                     'Associated_Device_or_Medical_Supply_PDI_3','Covered_or_Noncovered_Indicator_4',\n",
    "                     'Indicate_Drug_or_Biological_or_Device_or_Medical_Supply_4','Product_Category_or_Therapeutic_Area_4',\n",
    "                     'Name_of_Drug_or_Biological_or_Device_or_Medical_Supply_4','Associated_Drug_or_Biological_NDC_4',\n",
    "                     'Associated_Device_or_Medical_Supply_PDI_4','Covered_or_Noncovered_Indicator_5',\n",
    "                     'Indicate_Drug_or_Biological_or_Device_or_Medical_Supply_5','Product_Category_or_Therapeutic_Area_5',\n",
    "                     'Name_of_Drug_or_Biological_or_Device_or_Medical_Supply_5','Associated_Drug_or_Biological_NDC_5',\n",
    "                     'Associated_Device_or_Medical_Supply_PDI_5','Covered_Recipient_Specialty_2','Covered_Recipient_Specialty_3','Covered_Recipient_Specialty_4',\n",
    "                     'Covered_Recipient_Specialty_5','Covered_Recipient_Specialty_6','Covered_Recipient_Primary_Type_2',\n",
    "                     'Covered_Recipient_Primary_Type_3','Covered_Recipient_Primary_Type_4',\n",
    "                     'Covered_Recipient_Primary_Type_5', 'Covered_Recipient_Primary_Type_6']\n",
    "\n",
    "# concat general payments df across both years\n",
    "payments_2020_df.drop(columns=drop_payment_cols, inplace=True)\n",
    "payments_2021_df.drop(columns=drop_payment_cols, inplace=True)"
   ]
  },
  {
   "cell_type": "code",
   "execution_count": null,
   "metadata": {
    "scrolled": true
   },
   "outputs": [],
   "source": [
    "# Read Ownership Data for 2020 and 2021\n",
    "ownership_2020_df = read_chunks(ownership_2020_path, 50000)\n",
    "ownership_2021_df = read_chunks(ownership_2021_path, 50000)\n",
    "# concat ownership df across both years\n",
    "concat_ownership_df = pd.concat([ownership_2020_df, ownership_2021_df])"
   ]
  },
  {
   "cell_type": "code",
   "execution_count": null,
   "metadata": {},
   "outputs": [],
   "source": [
    "# Read Physician Profile Supplement - no concatenation\n",
    "profile_df = read_chunks(profile_path, 50000)\n",
    "# Provider profile ID mapping table - Maps secondary/duplicate provider profile IDs to the primary ID in the Open Payments system. For multiple reasons, a small number of providers have more than one ID in the payments records\n",
    "# no concatenation\n",
    "provider_mapping_df = read_chunks(provider_mapping_path, 50000)"
   ]
  },
  {
   "cell_type": "code",
   "execution_count": null,
   "metadata": {},
   "outputs": [],
   "source": [
    "# high level summary for all string columns\n",
    "for col in concat_research_df.columns:\n",
    "    col_type = concat_research_df[col].dtype\n",
    "    print(\"\")\n",
    "    print(f\"'{col}'\")\n",
    "    print(f\"Column is {col_type} type.\")\n",
    "    if col_type != 'float64':\n",
    "        print(concat_research_df[col].unique())\n",
    "        try:\n",
    "            print(concat_research_df[col].min())\n",
    "            print(concat_research_df[col].max())\n",
    "        except:\n",
    "            print('incomplete min/max summary')"
   ]
  }
 ],
 "metadata": {
  "kernelspec": {
   "display_name": "Python 3",
   "language": "python",
   "name": "python3"
  },
  "language_info": {
   "codemirror_mode": {
    "name": "ipython",
    "version": 3
   },
   "file_extension": ".py",
   "mimetype": "text/x-python",
   "name": "python",
   "nbconvert_exporter": "python",
   "pygments_lexer": "ipython3",
   "version": "3.7.6"
  }
 },
 "nbformat": 4,
 "nbformat_minor": 4
}
