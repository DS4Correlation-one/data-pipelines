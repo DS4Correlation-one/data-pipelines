{
 "cells": [
  {
   "cell_type": "code",
   "execution_count": 2,
   "metadata": {
    "scrolled": true
   },
   "outputs": [
    {
     "ename": "OSError",
     "evalue": "[Errno 22] Invalid argument: 'https://download.cms.gov/openpayments/PHPRFL_P012023/OP_CVRD_RCPNT_PRFL_SPLMTL_P01202023.csv'",
     "output_type": "error",
     "traceback": [
      "\u001b[1;31m---------------------------------------------------------------------------\u001b[0m",
      "\u001b[1;31mOSError\u001b[0m                                   Traceback (most recent call last)",
      "\u001b[1;32m<ipython-input-2-310e3bc819c5>\u001b[0m in \u001b[0;36m<module>\u001b[1;34m\u001b[0m\n\u001b[0;32m    106\u001b[0m \u001b[1;33m\u001b[0m\u001b[0m\n\u001b[0;32m    107\u001b[0m \u001b[1;31m# Invoke main function to save data to doctors_rating.csv\u001b[0m\u001b[1;33m\u001b[0m\u001b[1;33m\u001b[0m\u001b[1;33m\u001b[0m\u001b[0m\n\u001b[1;32m--> 108\u001b[1;33m \u001b[0msave_doctor_ratings_csv\u001b[0m\u001b[1;33m(\u001b[0m\u001b[1;33m)\u001b[0m\u001b[1;33m\u001b[0m\u001b[1;33m\u001b[0m\u001b[0m\n\u001b[0m",
      "\u001b[1;32m<ipython-input-2-310e3bc819c5>\u001b[0m in \u001b[0;36msave_doctor_ratings_csv\u001b[1;34m()\u001b[0m\n\u001b[0;32m     50\u001b[0m \u001b[1;31m# Invoke get_physicians_data_csv(), get_doctors_data_rate(), save_data_to_csv() function and create a doctors_ratings csv file\u001b[0m\u001b[1;33m\u001b[0m\u001b[1;33m\u001b[0m\u001b[1;33m\u001b[0m\u001b[0m\n\u001b[0;32m     51\u001b[0m \u001b[1;32mdef\u001b[0m \u001b[0msave_doctor_ratings_csv\u001b[0m\u001b[1;33m(\u001b[0m\u001b[1;33m)\u001b[0m\u001b[1;33m:\u001b[0m\u001b[1;33m\u001b[0m\u001b[1;33m\u001b[0m\u001b[0m\n\u001b[1;32m---> 52\u001b[1;33m     \u001b[0mphysician_data\u001b[0m \u001b[1;33m=\u001b[0m \u001b[0mget_physicians_data_csv\u001b[0m\u001b[1;33m(\u001b[0m\u001b[1;33m)\u001b[0m\u001b[1;33m\u001b[0m\u001b[1;33m\u001b[0m\u001b[0m\n\u001b[0m\u001b[0;32m     53\u001b[0m     \u001b[1;32mfor\u001b[0m \u001b[0mphysician\u001b[0m \u001b[1;32min\u001b[0m \u001b[0mphysician_data\u001b[0m\u001b[1;33m:\u001b[0m\u001b[1;33m\u001b[0m\u001b[1;33m\u001b[0m\u001b[0m\n\u001b[0;32m     54\u001b[0m \u001b[1;33m\u001b[0m\u001b[0m\n",
      "\u001b[1;32m<ipython-input-2-310e3bc819c5>\u001b[0m in \u001b[0;36mget_physicians_data_csv\u001b[1;34m()\u001b[0m\n\u001b[0;32m      9\u001b[0m     \u001b[0mdoctors_details\u001b[0m \u001b[1;33m=\u001b[0m \u001b[0mlist\u001b[0m\u001b[1;33m(\u001b[0m\u001b[1;33m)\u001b[0m\u001b[1;33m\u001b[0m\u001b[1;33m\u001b[0m\u001b[0m\n\u001b[0;32m     10\u001b[0m \u001b[1;33m\u001b[0m\u001b[0m\n\u001b[1;32m---> 11\u001b[1;33m     \u001b[1;32mwith\u001b[0m \u001b[0mopen\u001b[0m\u001b[1;33m(\u001b[0m\u001b[0mcsv_file_path\u001b[0m\u001b[1;33m,\u001b[0m \u001b[1;34m'r'\u001b[0m\u001b[1;33m)\u001b[0m \u001b[1;32mas\u001b[0m \u001b[0mfile\u001b[0m\u001b[1;33m:\u001b[0m\u001b[1;33m\u001b[0m\u001b[1;33m\u001b[0m\u001b[0m\n\u001b[0m\u001b[0;32m     12\u001b[0m         \u001b[0mcsv_reader\u001b[0m \u001b[1;33m=\u001b[0m \u001b[0mcsv\u001b[0m\u001b[1;33m.\u001b[0m\u001b[0mreader\u001b[0m\u001b[1;33m(\u001b[0m\u001b[0mfile\u001b[0m\u001b[1;33m)\u001b[0m\u001b[1;33m\u001b[0m\u001b[1;33m\u001b[0m\u001b[0m\n\u001b[0;32m     13\u001b[0m         \u001b[0mnext\u001b[0m\u001b[1;33m(\u001b[0m\u001b[0mcsv_reader\u001b[0m\u001b[1;33m)\u001b[0m\u001b[1;33m\u001b[0m\u001b[1;33m\u001b[0m\u001b[0m\n",
      "\u001b[1;31mOSError\u001b[0m: [Errno 22] Invalid argument: 'https://download.cms.gov/openpayments/PHPRFL_P012023/OP_CVRD_RCPNT_PRFL_SPLMTL_P01202023.csv'"
     ]
    }
   ],
   "source": [
    "from pymongo import MongoClient\n",
    "from urllib.parse import quote_plus\n",
    "import csv\n",
    "import os\n",
    "\n",
    "#fetch data from the cleaned-data2020.csv file\n",
    "def get_physicians_data_csv():\n",
    "    csv_file_path = 'https://download.cms.gov/openpayments/PHPRFL_P012023/OP_CVRD_RCPNT_PRFL_SPLMTL_P01202023.csv'\n",
    "    doctors_details = list()\n",
    "\n",
    "    with open(csv_file_path, 'r') as file:\n",
    "        csv_reader = csv.reader(file)\n",
    "        next(csv_reader)\n",
    "        for row in csv_reader:\n",
    "\n",
    "            doctors_details.append({'physician_first_name': row[2], 'physician_last_name': row[3],\n",
    "                                   'recipient_primary_business_street_address_line1': row[4], 'recipient_zip_code': row[7], 'physician_npi': row[1]})\n",
    "    return doctors_details\n",
    "\n",
    "#fetch data from the ratesmd collection\n",
    "def get_doctors_data_rate(doctor_info):\n",
    "    doctor_info['_id'] = str(doctor_info['_id'])\n",
    "    return {\n",
    "        'review_id': doctor_info[\"id\"],\n",
    "        'rating':  doctor_info[\"rating\"]['average'],\n",
    "    }\n",
    "\n",
    "# helper function for saving data to a csv file\n",
    "def save_data_to_csv(file_data):\n",
    "    field_names = ['review_id',\n",
    "                   'doctor_first_name',\n",
    "                   'doctor_last_name',\n",
    "                   'rating',\n",
    "                   'physician_npi'\n",
    "\n",
    "                   ]\n",
    "\n",
    "    file_exists = os.path.isfile('doctors_ratings.csv')\n",
    "\n",
    "    with open('doctors_ratings.csv', mode='a', newline='') as csv_file:\n",
    "        writer = csv.DictWriter(csv_file, fieldnames=field_names)\n",
    "\n",
    "        if not file_exists:\n",
    "            writer.writeheader()\n",
    "\n",
    "        writer.writerow(file_data)\n",
    "\n",
    "    return\n",
    "\n",
    "# Invoke get_physicians_data_csv(), get_doctors_data_rate(), save_data_to_csv() function and create a doctors_ratings csv file \n",
    "def save_doctor_ratings_csv():\n",
    "    physician_data = get_physicians_data_csv()\n",
    "    for physician in physician_data:\n",
    "\n",
    "        query = {\n",
    "            'location.postal_code': physician['recipient_zip_code'],  # 2832\n",
    "            \"location.city.country_name\": 'United States',\n",
    "            \"$or\": [\n",
    "                {'full_name': {\n",
    "                    \"$regex\": f\"^Dr\\\\. {physician['physician_first_name']} .* {physician['physician_last_name']}$\"\n",
    "\n",
    "                }}, {'full_name': {\n",
    "                    \"$regex\": f\"^Dr\\\\. {physician['physician_first_name']} {physician['physician_last_name']}$\"\n",
    "\n",
    "                }}\n",
    "            ]\n",
    "        }\n",
    "        query_minus_zip_code = query = {\n",
    "\n",
    "            \"location.city.country_name\": 'United States',\n",
    "            \"$or\": [\n",
    "                {'full_name': {\n",
    "                    \"$regex\": f\"^Dr\\\\. {physician['physician_first_name']} .* {physician['physician_last_name']}$\"\n",
    "\n",
    "                }}, {'full_name': {\n",
    "                    \"$regex\": f\"^Dr\\\\. {physician['physician_first_name']} {physician['physician_last_name']}$\"\n",
    "\n",
    "                }}\n",
    "            ]\n",
    "        }\n",
    "\n",
    "        doctor_info = ratemdDB.find_one(query) if ratemdDB.find_one(\n",
    "            query) else ratemdDB.find_one(query_minus_zip_code)\n",
    "        if doctor_info:\n",
    "            doctor_data_rate = get_doctors_data_rate(doctor_info)\n",
    "            dr_info = {\n",
    "                'doctor_first_name':  physician['physician_first_name'],\n",
    "                'doctor_last_name':  physician['physician_last_name'],\n",
    "                'physician_npi': physician['physician_npi']\n",
    "\n",
    "            }\n",
    "            save_data_to_csv({**doctor_data_rate, ** dr_info })\n",
    "            \n",
    "\n",
    "# connect to database \n",
    "user = \"c1-ds4a-2-team-23\"\n",
    "password = \"PhobRoswuBropRaKUM9R\"\n",
    "host = \"20.232.135.212:27017\"\n",
    "uri = \"mongodb://%s:%s@%s\" % (\n",
    "    quote_plus(user), quote_plus(password), host)\n",
    "client = MongoClient(uri)\n",
    "\n",
    "db = client['healthrate']\n",
    "\n",
    "ratemdDB = db.ratemd\n",
    "\n",
    "# Invoke main function to save data to doctors_rating.csv\n",
    "save_doctor_ratings_csv()"
   ]
  },
  {
   "cell_type": "code",
   "execution_count": 4,
   "metadata": {},
   "outputs": [],
   "source": [
    "def get_physicians_data_csv():\n",
    "    csv_file_path = 'https://download.cms.gov/openpayments/PHPRFL_P012023/OP_CVRD_RCPNT_PRFL_SPLMTL_P01202023.csv'\n",
    "    doctors_details = list()\n",
    "\n",
    "    with open(csv_file_path, 'r') as file:\n",
    "        csv_reader = csv.reader(file)\n",
    "        next(csv_reader)\n",
    "        for row in csv_reader:\n",
    "            print(row)\n",
    "#             doctors_details.append({'physician_first_name': row[2], 'physician_last_name': row[3],\n",
    "#                                    'recipient_primary_business_street_address_line1': row[4], 'recipient_zip_code': row[7], 'physician_npi': row[1]})\n",
    "#     return doctors_details"
   ]
  },
  {
   "cell_type": "code",
   "execution_count": 5,
   "metadata": {},
   "outputs": [
    {
     "ename": "OSError",
     "evalue": "[Errno 22] Invalid argument: 'https://download.cms.gov/openpayments/PHPRFL_P012023/OP_CVRD_RCPNT_PRFL_SPLMTL_P01202023.csv'",
     "output_type": "error",
     "traceback": [
      "\u001b[1;31m---------------------------------------------------------------------------\u001b[0m",
      "\u001b[1;31mOSError\u001b[0m                                   Traceback (most recent call last)",
      "\u001b[1;32m<ipython-input-5-62cfb17f5e2b>\u001b[0m in \u001b[0;36m<module>\u001b[1;34m\u001b[0m\n\u001b[1;32m----> 1\u001b[1;33m \u001b[0mget_physicians_data_csv\u001b[0m\u001b[1;33m(\u001b[0m\u001b[1;33m)\u001b[0m\u001b[1;33m\u001b[0m\u001b[1;33m\u001b[0m\u001b[0m\n\u001b[0m",
      "\u001b[1;32m<ipython-input-4-5a53cd28ebaf>\u001b[0m in \u001b[0;36mget_physicians_data_csv\u001b[1;34m()\u001b[0m\n\u001b[0;32m      3\u001b[0m     \u001b[0mdoctors_details\u001b[0m \u001b[1;33m=\u001b[0m \u001b[0mlist\u001b[0m\u001b[1;33m(\u001b[0m\u001b[1;33m)\u001b[0m\u001b[1;33m\u001b[0m\u001b[1;33m\u001b[0m\u001b[0m\n\u001b[0;32m      4\u001b[0m \u001b[1;33m\u001b[0m\u001b[0m\n\u001b[1;32m----> 5\u001b[1;33m     \u001b[1;32mwith\u001b[0m \u001b[0mopen\u001b[0m\u001b[1;33m(\u001b[0m\u001b[0mcsv_file_path\u001b[0m\u001b[1;33m,\u001b[0m \u001b[1;34m'r'\u001b[0m\u001b[1;33m)\u001b[0m \u001b[1;32mas\u001b[0m \u001b[0mfile\u001b[0m\u001b[1;33m:\u001b[0m\u001b[1;33m\u001b[0m\u001b[1;33m\u001b[0m\u001b[0m\n\u001b[0m\u001b[0;32m      6\u001b[0m         \u001b[0mcsv_reader\u001b[0m \u001b[1;33m=\u001b[0m \u001b[0mcsv\u001b[0m\u001b[1;33m.\u001b[0m\u001b[0mreader\u001b[0m\u001b[1;33m(\u001b[0m\u001b[0mfile\u001b[0m\u001b[1;33m)\u001b[0m\u001b[1;33m\u001b[0m\u001b[1;33m\u001b[0m\u001b[0m\n\u001b[0;32m      7\u001b[0m         \u001b[0mnext\u001b[0m\u001b[1;33m(\u001b[0m\u001b[0mcsv_reader\u001b[0m\u001b[1;33m)\u001b[0m\u001b[1;33m\u001b[0m\u001b[1;33m\u001b[0m\u001b[0m\n",
      "\u001b[1;31mOSError\u001b[0m: [Errno 22] Invalid argument: 'https://download.cms.gov/openpayments/PHPRFL_P012023/OP_CVRD_RCPNT_PRFL_SPLMTL_P01202023.csv'"
     ]
    }
   ],
   "source": [
    "get_physicians_data_csv()"
   ]
  }
 ],
 "metadata": {
  "kernelspec": {
   "display_name": "Python 3",
   "language": "python",
   "name": "python3"
  },
  "language_info": {
   "codemirror_mode": {
    "name": "ipython",
    "version": 3
   },
   "file_extension": ".py",
   "mimetype": "text/x-python",
   "name": "python",
   "nbconvert_exporter": "python",
   "pygments_lexer": "ipython3",
   "version": "3.7.6"
  }
 },
 "nbformat": 4,
 "nbformat_minor": 4
}
